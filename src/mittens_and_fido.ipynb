{
  "nbformat": 4,
  "nbformat_minor": 0,
  "metadata": {
    "colab": {
      "name": "Dlib Exercise.ipynb",
      "provenance": [],
      "include_colab_link": true
    },
    "kernelspec": {
      "name": "python3",
      "display_name": "Python 3"
    },
    "accelerator": "GPU"
  },
  "cells": [
    {
      "cell_type": "markdown",
      "metadata": {
        "id": "view-in-github",
        "colab_type": "text"
      },
      "source": [
        "<a href=\"https://colab.research.google.com/github/caluq/elec4630/blob/main/src/mittens_and_fido.ipynb\" target=\"_parent\"><img src=\"https://colab.research.google.com/assets/colab-badge.svg\" alt=\"Open In Colab\"/></a>"
      ]
    },
    {
      "cell_type": "markdown",
      "metadata": {
        "id": "4KkLwN_fprWf"
      },
      "source": [
        "#ELEC4630 Exercise on Face Recognition\n",
        "First check if the dlib library is installed"
      ]
    },
    {
      "cell_type": "code",
      "metadata": {
        "id": "Bnvc7IP1ptxn",
        "colab": {
          "base_uri": "https://localhost:8080/"
        },
        "outputId": "678118f1-095f-4d68-a27a-ca654f940303"
      },
      "source": [
        "!pip install dlib\n"
      ],
      "execution_count": null,
      "outputs": [
        {
          "output_type": "stream",
          "name": "stdout",
          "text": [
            "Looking in indexes: https://pypi.org/simple, https://us-python.pkg.dev/colab-wheels/public/simple/\n",
            "Requirement already satisfied: dlib in /usr/local/lib/python3.7/dist-packages (19.18.0+zzzcolab20220513001918)\n"
          ]
        }
      ]
    },
    {
      "cell_type": "markdown",
      "metadata": {
        "id": "Snc0PgFIp8U3"
      },
      "source": [
        "Get some sample images from gitHub and place them a folder called 'images'."
      ]
    },
    {
      "cell_type": "code",
      "source": [
        "from google.colab import drive\n",
        "drive.mount('/content/drive')"
      ],
      "metadata": {
        "id": "XyVlfpYNvSNb",
        "outputId": "02580597-9899-4041-e8ba-68da5c7e1f09",
        "colab": {
          "base_uri": "https://localhost:8080/"
        }
      },
      "execution_count": null,
      "outputs": [
        {
          "output_type": "stream",
          "name": "stdout",
          "text": [
            "Mounted at /content/drive\n"
          ]
        }
      ]
    },
    {
      "cell_type": "code",
      "metadata": {
        "id": "lFWjrm_k6Asq",
        "colab": {
          "base_uri": "https://localhost:8080/"
        },
        "outputId": "97896ae3-e200-4235-8a01-764e57e8327d"
      },
      "source": [
        "# First store some sample images in the folder 'images'\n",
        "!mkdir -p images\n",
        "!cd images; wget -nc https://github.com/caluq/elec4630/blob/f713b7e2d0656f8f3a6dd1dac1c4792077b523d4/images/image_0001.jpg\n",
        "#!cd images; wget -nc https://raw.githubusercontent.com/lovellbrian/ELEC4630/master/Images/biden.jpg\n",
        "!cd images; wget -nc https://github.com/caluq/elec4630/blob/5559fccf201435ab6984eb50837d30117ba83676/images/image_0002.jpg"
      ],
      "execution_count": null,
      "outputs": [
        {
          "output_type": "stream",
          "name": "stdout",
          "text": [
            "--2022-06-01 10:16:39--  https://github.com/caluq/elec4630/blob/f713b7e2d0656f8f3a6dd1dac1c4792077b523d4/images/image_0001.jpg\n",
            "Resolving github.com (github.com)... 140.82.114.4\n",
            "Connecting to github.com (github.com)|140.82.114.4|:443... connected.\n",
            "HTTP request sent, awaiting response... 200 OK\n",
            "Length: unspecified [text/html]\n",
            "Saving to: ‘image_0001.jpg’\n",
            "\n",
            "image_0001.jpg          [ <=>                ] 124.31K  --.-KB/s    in 0.04s   \n",
            "\n",
            "2022-06-01 10:16:39 (3.21 MB/s) - ‘image_0001.jpg’ saved [127289]\n",
            "\n",
            "--2022-06-01 10:16:39--  https://github.com/caluq/elec4630/blob/5559fccf201435ab6984eb50837d30117ba83676/images/image_0002.jpg\n",
            "Resolving github.com (github.com)... 140.82.112.4\n",
            "Connecting to github.com (github.com)|140.82.112.4|:443... connected.\n",
            "HTTP request sent, awaiting response... 200 OK\n",
            "Length: unspecified [text/html]\n",
            "Saving to: ‘image_0002.jpg’\n",
            "\n",
            "image_0002.jpg          [ <=>                ] 124.31K  --.-KB/s    in 0.04s   \n",
            "\n",
            "2022-06-01 10:16:40 (3.36 MB/s) - ‘image_0002.jpg’ saved [127289]\n",
            "\n"
          ]
        }
      ]
    },
    {
      "cell_type": "markdown",
      "metadata": {
        "id": "9m1RbCohI8Rv"
      },
      "source": [
        "Now install the face recognition module from Dlib"
      ]
    },
    {
      "cell_type": "code",
      "metadata": {
        "id": "wQABDisPqrpo",
        "colab": {
          "base_uri": "https://localhost:8080/"
        },
        "outputId": "89138f51-4768-4cec-ac86-102fbf2e956a"
      },
      "source": [
        "!pip3 install face_recognition"
      ],
      "execution_count": null,
      "outputs": [
        {
          "output_type": "stream",
          "name": "stdout",
          "text": [
            "Looking in indexes: https://pypi.org/simple, https://us-python.pkg.dev/colab-wheels/public/simple/\n",
            "Collecting face_recognition\n",
            "  Downloading face_recognition-1.3.0-py2.py3-none-any.whl (15 kB)\n",
            "Requirement already satisfied: Pillow in /usr/local/lib/python3.7/dist-packages (from face_recognition) (7.1.2)\n",
            "Collecting face-recognition-models>=0.3.0\n",
            "  Downloading face_recognition_models-0.3.0.tar.gz (100.1 MB)\n",
            "\u001b[K     |████████████████████████████████| 100.1 MB 27 kB/s \n",
            "\u001b[?25hRequirement already satisfied: dlib>=19.7 in /usr/local/lib/python3.7/dist-packages (from face_recognition) (19.18.0+zzzcolab20220513001918)\n",
            "Requirement already satisfied: numpy in /usr/local/lib/python3.7/dist-packages (from face_recognition) (1.21.6)\n",
            "Requirement already satisfied: Click>=6.0 in /usr/local/lib/python3.7/dist-packages (from face_recognition) (7.1.2)\n",
            "Building wheels for collected packages: face-recognition-models\n",
            "  Building wheel for face-recognition-models (setup.py) ... \u001b[?25l\u001b[?25hdone\n",
            "  Created wheel for face-recognition-models: filename=face_recognition_models-0.3.0-py2.py3-none-any.whl size=100566186 sha256=e0729a1993f01a1658d57a89e24a03d28634f530b6d7dd77767a3708485cb00c\n",
            "  Stored in directory: /root/.cache/pip/wheels/d6/81/3c/884bcd5e1c120ff548d57c2ecc9ebf3281c9a6f7c0e7e7947a\n",
            "Successfully built face-recognition-models\n",
            "Installing collected packages: face-recognition-models, face-recognition\n",
            "Successfully installed face-recognition-1.3.0 face-recognition-models-0.3.0\n"
          ]
        }
      ]
    },
    {
      "cell_type": "markdown",
      "metadata": {
        "id": "CqKyfGKbJRCk"
      },
      "source": [
        "Now lets find some faces!"
      ]
    },
    {
      "cell_type": "code",
      "metadata": {
        "id": "Vzhv09Dyq5Gv"
      },
      "source": [
        "import face_recognition\n",
        "from PIL import Image, ImageDraw\n",
        "import numpy as np\n",
        "\n",
        "# This is an example of running face recognition on a single image\n",
        "# and drawing a box around each person that was identified.\n",
        "\n",
        "# Load a sample picture and learn how to recognize it.\n",
        "prefix = \"/content/drive/MyDrive/ELEC4630/ass3/Image_0001_faces/\" \n",
        "image_list = os.listdir(prefix)\n",
        "image_list.sort() \n",
        "\n",
        "image_0001 = face_recognition.load_image_file(prefix + image_list[1])\n",
        "image_0001_face_encoding = face_recognition.face_encodings(image_0001)[0]\n",
        "\n",
        "# Load a second sample picture and learn how to recognize it.\n",
        "#biden_image = face_recognition.load_image_file(\"images/biden.jpg\")\n",
        "#biden_face_encoding = face_recognition.face_encodings(biden_image)[0]\n",
        "\n",
        "# Create arrays of known face encodings and their names\n",
        "known_face_encodings = [\n",
        "    image_0001_face_encoding\n",
        "]\n",
        "known_face_names = [\n",
        "    \"image_0001\"\n",
        "]\n",
        "\n",
        "positive_images = [None] * len(image_list)\n",
        "tolerance_quantity = 18\n",
        "tolerances = np.linspace(0.05, 0.95, tolerance_quantity)\n",
        "\n",
        "true_positives = [0] * tolerance_quantity\n",
        "false_negatives = [0] * tolerance_quantity\n",
        "true_negatives = [0] * tolerance_quantity\n",
        "false_positives = [0] * tolerance_quantity\n",
        "\n",
        "positive_image_quantity = len(image_list)\n",
        "\n",
        "for i in range(2, positive_image_quantity):\n",
        "    tol = tolerances[t]\n",
        "    positive_images[i] = face_recognition.load_image_file(prefix + image_list[i])\n",
        "    unknown_image = positive_images[i]\n",
        "\n",
        "    # Find all the faces and face encodings in the unknown image\n",
        "    face_locations = face_recognition.face_locations(unknown_image)\n",
        "    face_encodings = face_recognition.face_encodings(unknown_image, face_locations)\n",
        "\n",
        "    # Convert the image to a PIL-format image so that we can draw on top of it with the Pillow library\n",
        "    # See http://pillow.readthedocs.io/ for more about PIL/Pillow\n",
        "    pil_image = Image.fromarray(unknown_image)\n",
        "    # Create a Pillow ImageDraw Draw instance to draw with\n",
        "    draw = ImageDraw.Draw(pil_image)\n",
        "\n",
        "    # Loop through each face found in the unknown image\n",
        "    for (top, right, bottom, left), face_encoding in zip(face_locations, face_encodings, ):\n",
        "        for t in range(0, tolerance_quantity):\n",
        "\n",
        "            tol = tolerances[t]\n",
        "            matches = []\n",
        "            # See if the face is a match for the known face(s)\n",
        "            matches = face_recognition.compare_faces(known_face_encodings, face_encoding, tolerance=tol)\n",
        "            name = \"Unknown\"\n",
        "\n",
        "            # If a match was found in known_face_encodings, just use the first one.\n",
        "            # if True in matches:\n",
        "            #     first_match_index = matches.index(True)\n",
        "            #     name = known_face_names[first_match_index]\n",
        "\n",
        "            # Or instead, use the known face with the smallest distance to the new face\n",
        "            face_distances = face_recognition.face_distance(known_face_encodings, face_encoding)\n",
        "            best_match_index = np.argmin(face_distances)\n",
        "\n",
        "            if matches[best_match_index]:\n",
        "                name = known_face_names[best_match_index]\n",
        "                true_positives[t] = true_positives[t] + 1\n",
        "            else:\n",
        "                false_negatives[t] = false_negatives[t] + 1\n",
        "\n",
        "#################### Negative images #####################\n",
        "# Load a sample picture and learn how to recognize it.\n",
        "prefix = \"/content/drive/MyDrive/ELEC4630/ass3/Other_faces/\" \n",
        "image_list = os.listdir(prefix)\n",
        "image_list.sort() \n",
        "\n",
        "negative_images = [None] * len(image_list)\n",
        "negative_image_quantity = len(image_list)\n",
        "\n",
        "for i in range(1, negative_image_quantity):\n",
        "    negative_images[i] = face_recognition.load_image_file(prefix + image_list[i])\n",
        "    unknown_image = negative_images[i]\n",
        "\n",
        "    # Find all the faces and face encodings in the unknown image\n",
        "    face_locations = face_recognition.face_locations(unknown_image)\n",
        "    face_encodings = face_recognition.face_encodings(unknown_image, face_locations)\n",
        "\n",
        "    # Convert the image to a PIL-format image so that we can draw on top of it with the Pillow library\n",
        "    # See http://pillow.readthedocs.io/ for more about PIL/Pillow\n",
        "    pil_image = Image.fromarray(unknown_image)\n",
        "    # Create a Pillow ImageDraw Draw instance to draw with\n",
        "    draw = ImageDraw.Draw(pil_image)\n",
        "\n",
        "    # Loop through each face found in the unknown image\n",
        "    for (top, right, bottom, left), face_encoding in zip(face_locations, face_encodings):\n",
        "          for t in range(0, tolerance_quantity):\n",
        "\n",
        "              tol = tolerances[t]\n",
        "              matches = []\n",
        "              # See if the face is a match for the known face(s)\n",
        "              matches = face_recognition.compare_faces(known_face_encodings, face_encoding, tolerance=tol)\n",
        "              name = \"Unknown\"\n",
        "\n",
        "              # If a match was found in known_face_encodings, just use the first one.\n",
        "              # if True in matches:\n",
        "              #     first_match_index = matches.index(True)\n",
        "              #     name = known_face_names[first_match_index]\n",
        "\n",
        "              # Or instead, use the known face with the smallest distance to the new face\n",
        "              face_distances = face_recognition.face_distance(known_face_encodings, face_encoding)\n",
        "              best_match_index = np.argmin(face_distances)\n",
        "\n",
        "              if matches[best_match_index]:\n",
        "                  name = known_face_names[best_match_index]\n",
        "                  false_positives[t] = false_positives[t] + 1\n",
        "              else:\n",
        "                  true_negatives[t] = true_negatives[t] + 1\n",
        "\n"
      ],
      "execution_count": null,
      "outputs": []
    },
    {
      "cell_type": "code",
      "source": [
        "import matplotlib.pyplot as plt\n",
        "true_positives_rate = [0] * tolerance_quantity\n",
        "false_positives_rate = [0] * tolerance_quantity\n",
        "\n",
        "for t in range(0, tolerance_quantity):   \n",
        "    true_positives_rate[t] = true_positives[t] / (true_positives[t] + false_negatives[t])\n",
        "    false_positives_rate[t] = false_positives[t] / (false_positives[t] + true_negatives[t])\n",
        "\n",
        "display(\"true positive_rate : \")\n",
        "display(true_positives_rate)\n",
        "display(\"false positive_rate : \")\n",
        "display(false_positives_rate)\n",
        "display(\"threshold delta : \")\n",
        "display(tolerances[1] - tolerances[0])\n",
        "\n",
        "plt.title('ROC') \n",
        "plt.plot(false_positives_rate, true_positives_rate, '-o', label = 'AUC = %0.2f')\n",
        "plt.plot([0, 1], [0, 1], 'r--')\n",
        "plt.xlim([-0.1, 1.1])\n",
        "plt.ylim([-0.1, 1.1])\n",
        "plt.ylabel('True Positive Rate')\n",
        "plt.xlabel('False Positive Rate')\n",
        "plt.show()"
      ],
      "metadata": {
        "id": "O9sC_uA_JGYT",
        "outputId": "79a749a7-4302-48fc-e064-a1a34abbc266",
        "colab": {
          "base_uri": "https://localhost:8080/",
          "height": 1000
        }
      },
      "execution_count": null,
      "outputs": [
        {
          "output_type": "display_data",
          "data": {
            "text/plain": [
              "'true positive_rate : '"
            ],
            "application/vnd.google.colaboratory.intrinsic+json": {
              "type": "string"
            }
          },
          "metadata": {}
        },
        {
          "output_type": "display_data",
          "data": {
            "text/plain": [
              "[0.0,\n",
              " 0.0,\n",
              " 0.47368421052631576,\n",
              " 0.631578947368421,\n",
              " 0.7368421052631579,\n",
              " 0.8421052631578947,\n",
              " 0.8947368421052632,\n",
              " 1.0,\n",
              " 1.0,\n",
              " 1.0,\n",
              " 1.0,\n",
              " 1.0,\n",
              " 1.0,\n",
              " 1.0,\n",
              " 1.0,\n",
              " 1.0,\n",
              " 1.0,\n",
              " 1.0]"
            ]
          },
          "metadata": {}
        },
        {
          "output_type": "display_data",
          "data": {
            "text/plain": [
              "'false positive_rate : '"
            ],
            "application/vnd.google.colaboratory.intrinsic+json": {
              "type": "string"
            }
          },
          "metadata": {}
        },
        {
          "output_type": "display_data",
          "data": {
            "text/plain": [
              "[0.0,\n",
              " 0.0,\n",
              " 0.0,\n",
              " 0.0,\n",
              " 0.0,\n",
              " 0.0,\n",
              " 0.0,\n",
              " 0.0,\n",
              " 0.0,\n",
              " 0.0,\n",
              " 0.0022935779816513763,\n",
              " 0.0022935779816513763,\n",
              " 0.04357798165137615,\n",
              " 0.1926605504587156,\n",
              " 0.5527522935779816,\n",
              " 0.8027522935779816,\n",
              " 0.9885321100917431,\n",
              " 1.0]"
            ]
          },
          "metadata": {}
        },
        {
          "output_type": "display_data",
          "data": {
            "text/plain": [
              "'threshold delta : '"
            ],
            "application/vnd.google.colaboratory.intrinsic+json": {
              "type": "string"
            }
          },
          "metadata": {}
        },
        {
          "output_type": "display_data",
          "data": {
            "text/plain": [
              "0.05294117647058823"
            ]
          },
          "metadata": {}
        },
        {
          "output_type": "display_data",
          "data": {
            "text/plain": [
              "<Figure size 432x288 with 1 Axes>"
            ],
            "image/png": "[encoded data removed]"
          },
          "metadata": {
            "needs_background": "light"
          }
        }
      ]
    },
    {
      "cell_type": "code",
      "source": [
        ""
      ],
      "metadata": {
        "id": "apb30AmGnaXE"
      },
      "execution_count": null,
      "outputs": []
    }
  ]
}